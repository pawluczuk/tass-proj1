{
 "cells": [
  {
   "cell_type": "markdown",
   "metadata": {},
   "source": [
    "# Analiza statystyczna grafu przy użyciu standardowych narzędzi\n",
    "Monika Pawluczuk, nr albumu 246428\n",
    "Zbiór danych wybrany na podstawie nr albumu: *Interakcje pomiędzy pracownikami małej firmy, zanotowane przez obserwatora.*\n",
    "\n",
    "## Zadanie 1.\n",
    "Wczytanie pobranego grafu. Graf został pobrany w formacie .pickle jako obiekt igraph, a następnie wyeksportowany do formatu Pajek. Następnie graf w formacie Pajek został wczytany jako obiekt networkx i na nim zostały wykonane wszystkie obliczenia za pomocą pakietu networkx."
   ]
  },
  {
   "cell_type": "code",
   "execution_count": 1,
   "metadata": {
    "collapsed": false
   },
   "outputs": [],
   "source": [
    "import igraph\n",
    "A = igraph.Graph.Read_Pickle(\"bkoff.pickle\")\n",
    "A[\"BKOFFB\"].write_pajek(\"bkoffb.pajek\")"
   ]
  },
  {
   "cell_type": "markdown",
   "metadata": {},
   "source": [
    "## Zadanie 2.\n",
    "Przekształcenie grafu. Po zaimportowaniu grafu do networkx, zostały z niego usunięte zduplikowane krawędzie oraz graf został przekształcony na nieskierowany i przy okazji wyeksportowany do formatu Pajek aby na nim wykonywać zadania w programie Pajek.\n",
    "\n",
    "Graf posiada 40 wierzchołków, które są połączone 238 krawędziami."
   ]
  },
  {
   "cell_type": "code",
   "execution_count": 2,
   "metadata": {
    "collapsed": false
   },
   "outputs": [
    {
     "name": "stdout",
     "output_type": "stream",
     "text": [
      "('Rozmiar grafu: ', 238, 'Rzad grafu: ', 40)\n"
     ]
    }
   ],
   "source": [
    "import networkx as nx\n",
    "G = nx.read_pajek(\"bkoffb.pajek\")\n",
    "# przekształcenie na graf nieskierowany, bez zduplikowanych krawedzi\n",
    "G = nx.Graph(G)\n",
    "nx.write_pajek(G, \"bkoffb-networkx.pajek\")\n",
    "G = nx.read_pajek(\"bkoffb-networkx.pajek\")\n",
    "print(\"Rozmiar grafu: \", len(G.edges()), \"Rzad grafu: \", len(G.nodes()))"
   ]
  },
  {
   "cell_type": "markdown",
   "metadata": {
    "collapsed": true
   },
   "source": [
    "## Zadanie 3.\n",
    "### Networkx\n",
    "Wyznacz składowe spójne. Ile ich jest; jaki jest rząd i rozmiar największej z nich?\n",
    "\n",
    "Istnieje tylko jedna składowa spójna grafu, a więc automatycznie jest ona największa. Zawiera ona w sobie wszystkie wierzchołki, więc jej rząd wynosi 40. Podobnie z rozmiarem, który wynosi 238 (wszystkie istniejące krawędzie).\n",
    "\n",
    "Liczba składowych spójnych:"
   ]
  },
  {
   "cell_type": "code",
   "execution_count": 3,
   "metadata": {
    "collapsed": false
   },
   "outputs": [
    {
     "data": {
      "text/plain": [
       "1"
      ]
     },
     "execution_count": 3,
     "metadata": {},
     "output_type": "execute_result"
    }
   ],
   "source": [
    "nx.number_connected_components(G)"
   ]
  },
  {
   "cell_type": "markdown",
   "metadata": {},
   "source": [
    "Posortowana wg. długości tablica wszystkich składowych spójnych:"
   ]
  },
  {
   "cell_type": "code",
   "execution_count": 4,
   "metadata": {
    "collapsed": false
   },
   "outputs": [
    {
     "data": {
      "text/plain": [
       "[40]"
      ]
     },
     "execution_count": 4,
     "metadata": {},
     "output_type": "execute_result"
    }
   ],
   "source": [
    "[len(c) for c in sorted(nx.connected_components(G), key=len, reverse=True)]"
   ]
  },
  {
   "cell_type": "markdown",
   "metadata": {},
   "source": [
    "Lista grafów zawierająca składowe spójne jako oddzielne podgrafy i liczba krawędzi pierwszej (i jedynej) z nich:"
   ]
  },
  {
   "cell_type": "code",
   "execution_count": 5,
   "metadata": {
    "collapsed": false
   },
   "outputs": [
    {
     "data": {
      "text/plain": [
       "238"
      ]
     },
     "execution_count": 5,
     "metadata": {},
     "output_type": "execute_result"
    }
   ],
   "source": [
    "graphs = list(nx.connected_component_subgraphs(G))\n",
    "graphs[0].number_of_edges()"
   ]
  },
  {
   "cell_type": "markdown",
   "metadata": {},
   "source": [
    "### Pajek\n",
    "\n",
    "Po wczytaniu grafu, używając polecenia: Network -> Create Partition -> Components -> Strong został utworzony jeden podgraf, zawierający wszystkie 40 wierzchołków. Wynik jest więc zgodny z wynikami otrzymanymi w NetworkX.\n",
    "\n",
    "Wydruk Pajeka:"
   ]
  },
  {
   "cell_type": "code",
   "execution_count": null,
   "metadata": {
    "collapsed": true
   },
   "outputs": [],
   "source": [
    "==============================================================================\n",
    "Strong Components\n",
    "==============================================================================\n",
    " Working...\n",
    " Number of components: 1\n",
    " Size of the largest component: 40 vertices (100.000%).\n",
    " Time spent:  0:00:00"
   ]
  },
  {
   "cell_type": "markdown",
   "metadata": {},
   "source": [
    "## Zadanie 4.\n",
    "Wykreśl graf w Pajeku.\n",
    "\n",
    "Wielkość wierzchołka w grafie jest proporcjonalna do stopnia centralności w grafie. Zostały zmienione kolory krawędzi i wierzchołków w celu lepszej czytelności grafu.\n",
    "\n",
    "Został użyty rozkład wierzchołków typu Energy, Kamada-Kawai, Separate Components.\n",
    "![Pajek network](pajek-network.jpg)"
   ]
  },
  {
   "cell_type": "markdown",
   "metadata": {},
   "source": [
    "## Zadanie 5.\n",
    "Znajdź pięć wierzchołków o największych wartościach:\n",
    "### bliskości (*closeness centrality*)\n",
    "\n",
    "Wierzchołki z numerami: 1, 2, 12, 13, 15."
   ]
  },
  {
   "cell_type": "code",
   "execution_count": 6,
   "metadata": {
    "collapsed": false
   },
   "outputs": [
    {
     "data": {
      "text/plain": [
       "[(0.6724137931034483, u'n13'),\n",
       " (0.6610169491525424, u'n2'),\n",
       " (0.65, u'n15'),\n",
       " (0.65, u'n12'),\n",
       " (0.65, u'n1')]"
      ]
     },
     "execution_count": 6,
     "metadata": {},
     "output_type": "execute_result"
    }
   ],
   "source": [
    "cent_dict = nx.closeness_centrality(G)\n",
    "cent_items=[(b,a) for (a,b) in cent_dict.iteritems()]\n",
    "cent_items.sort(reverse=True)\n",
    "cent_items[0:5]"
   ]
  },
  {
   "cell_type": "markdown",
   "metadata": {},
   "source": [
    "### pośrednictwa (*betweenness centrality*)\n",
    "\n",
    "Wierzchołki z numerami: 1, 2, 12, 13, 21."
   ]
  },
  {
   "cell_type": "code",
   "execution_count": 7,
   "metadata": {
    "collapsed": false
   },
   "outputs": [
    {
     "data": {
      "text/plain": [
       "[(0.06225133611416058, u'n1'),\n",
       " (0.04532200555595849, u'n12'),\n",
       " (0.043181681821834246, u'n2'),\n",
       " (0.041438373178073105, u'n13'),\n",
       " (0.039945056663322924, u'n21')]"
      ]
     },
     "execution_count": 7,
     "metadata": {},
     "output_type": "execute_result"
    }
   ],
   "source": [
    "betweenness_dict = nx.betweenness_centrality(G)\n",
    "betweenness_items = [(b,a) for (a,b) in betweenness_dict.iteritems()]\n",
    "betweenness_items.sort(reverse=True)\n",
    "betweenness_items[0:5]"
   ]
  },
  {
   "cell_type": "markdown",
   "metadata": {},
   "source": [
    "### rangi (*degree centrality*)\n",
    "\n",
    "Wierzchołki z numerami: 1, 2, 12, 13, 15."
   ]
  },
  {
   "cell_type": "code",
   "execution_count": 8,
   "metadata": {
    "collapsed": false
   },
   "outputs": [
    {
     "data": {
      "text/plain": [
       "[(0.5128205128205128, u'n13'),\n",
       " (0.48717948717948717, u'n2'),\n",
       " (0.48717948717948717, u'n12'),\n",
       " (0.4615384615384615, u'n15'),\n",
       " (0.4615384615384615, u'n1')]"
      ]
     },
     "execution_count": 8,
     "metadata": {},
     "output_type": "execute_result"
    }
   ],
   "source": [
    "degree_dict = nx.degree_centrality(G)\n",
    "degree_items = [(b,a) for (a,b) in degree_dict.iteritems()]\n",
    "degree_items.sort(reverse=True)\n",
    "degree_items[0:5]"
   ]
  },
  {
   "cell_type": "markdown",
   "metadata": {},
   "source": [
    "## Zadanie 6.\n",
    "Znajdź wszystkie największe kliki - ile ich jest i jakiego rzędu?\n",
    "\n",
    "W tym grafie istnieją 142 największe kliki, o rzędach:\n",
    "* 2 (4 kliki o rzędzie równym dwa), \n",
    "* 3 (41), \n",
    "* 4 (60), \n",
    "* 5 (26), \n",
    "* 6 (11).\n",
    "\n",
    "Ilość największych klik:"
   ]
  },
  {
   "cell_type": "code",
   "execution_count": 9,
   "metadata": {
    "collapsed": false
   },
   "outputs": [
    {
     "data": {
      "text/plain": [
       "142"
      ]
     },
     "execution_count": 9,
     "metadata": {},
     "output_type": "execute_result"
    }
   ],
   "source": [
    "# Returns the number of maximal cliques in G.\n",
    "nx.graph_number_of_cliques(G)"
   ]
  },
  {
   "cell_type": "markdown",
   "metadata": {},
   "source": [
    "Rzędy największych klik:"
   ]
  },
  {
   "cell_type": "code",
   "execution_count": 10,
   "metadata": {
    "collapsed": false
   },
   "outputs": [
    {
     "data": {
      "text/plain": [
       "[2, 3, 4, 5, 6]"
      ]
     },
     "execution_count": 10,
     "metadata": {},
     "output_type": "execute_result"
    }
   ],
   "source": [
    "max_cliques = list(nx.find_cliques(G))\n",
    "cliques = [len(c) for c in sorted(max_cliques, key=len, reverse=True)]\n",
    "list(set(cliques))"
   ]
  },
  {
   "cell_type": "markdown",
   "metadata": {},
   "source": [
    "## Zadanie 7.\n",
    "Przeprowadź grupowanie aglomeracyjne UPGMA. Wykreśl dendrogram lub jego istotny fragment i zaproponuj arbitralny podział grafu.\n",
    "\n",
    "Grupowanie aglomeracyjne wymaga macierzy odległości dla wierzchołków w grafie. Aby stworzyć taką macierz, która jako odległość przyjmuje ilość krawędzi przez które trzeba przejść idąc z wierzchołka A do B (najkrótsza ścieżka). Macierz została stworzona za pomocą algorytmu Floyda:"
   ]
  },
  {
   "cell_type": "code",
   "execution_count": 11,
   "metadata": {
    "collapsed": false
   },
   "outputs": [],
   "source": [
    "fw = nx.floyd_warshall_numpy(G)"
   ]
  },
  {
   "cell_type": "markdown",
   "metadata": {},
   "source": [
    "A następnie macierz została użyta w grupowaniu:"
   ]
  },
  {
   "cell_type": "code",
   "execution_count": 13,
   "metadata": {
    "collapsed": false
   },
   "outputs": [
    {
     "data": {
      "image/png": "[encoded data removed]",
      "text/plain": [
       "<matplotlib.figure.Figure at 0x10daaebd0>"
      ]
     },
     "metadata": {},
     "output_type": "display_data"
    }
   ],
   "source": [
    "%matplotlib inline\n",
    "import matplotlib.pyplot as plt\n",
    "import scipy.cluster\n",
    "\n",
    "plt.ylabel('Distance')\n",
    "plt.xlabel('Nodes')\n",
    "z = scipy.cluster.hierarchy.linkage(fw, method='average')\n",
    "d = scipy.cluster.hierarchy.dendrogram(z,leaf_rotation=90.)\n",
    "plt.show()"
   ]
  },
  {
   "cell_type": "markdown",
   "metadata": {
    "collapsed": true
   },
   "source": [
    "Arbitralny podział grafu\n",
    "\n",
    "### TBD"
   ]
  }
 ],
 "metadata": {
  "kernelspec": {
   "display_name": "Python 2",
   "language": "python",
   "name": "python2"
  },
  "language_info": {
   "codemirror_mode": {
    "name": "ipython",
    "version": 2
   },
   "file_extension": ".py",
   "mimetype": "text/x-python",
   "name": "python",
   "nbconvert_exporter": "python",
   "pygments_lexer": "ipython2",
   "version": "2.7.10"
  }
 },
 "nbformat": 4,
 "nbformat_minor": 0
}
